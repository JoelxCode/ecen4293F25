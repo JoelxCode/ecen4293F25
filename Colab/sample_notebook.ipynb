{
 "cells": [
  {
   "cell_type": "markdown",
   "id": "83f879ba",
   "metadata": {},
   "source": [
    "\n",
    "# My First Jupyter Notebook\n",
    "\n",
    "This is a simple demonstration of how to use **Jupyter Notebooks**.  \n",
    "We can mix text, equations, and code in the same document.\n",
    "\n",
    "---\n",
    "\n",
    "## Example: Mathematics in Markdown\n",
    "\n",
    "We can write inline math like \\( a^2 + b^2 = c^2 \\),  \n",
    "or display math:\n",
    "\n",
    "\\[\n",
    "e^{i\\pi} + 1 = 0\n",
    "\\]\n"
   ]
  },
  {
   "cell_type": "code",
   "execution_count": null,
   "id": "e9257704",
   "metadata": {},
   "outputs": [],
   "source": [
    "# Example 1: Hello World in Python\n",
    "print(\"Hello, Jupyter Notebook!\")"
   ]
  },
  {
   "cell_type": "code",
   "execution_count": null,
   "id": "5cf48805",
   "metadata": {},
   "outputs": [],
   "source": [
    "# Example 2: A simple function\n",
    "def square(x):\n",
    "    return x * x\n",
    "\n",
    "numbers = [1, 2, 3, 4, 5]\n",
    "squares = [square(n) for n in numbers]\n",
    "squares"
   ]
  },
  {
   "cell_type": "code",
   "execution_count": null,
   "id": "a089e4dd",
   "metadata": {},
   "outputs": [],
   "source": [
    "# Example 3: Plotting with matplotlib\n",
    "import matplotlib.pyplot as plt\n",
    "import numpy as np\n",
    "\n",
    "x = np.linspace(0, 2*np.pi, 100)\n",
    "y = np.sin(x)\n",
    "\n",
    "plt.plot(x, y, label=\"sin(x)\")\n",
    "plt.title(\"Sine Wave\")\n",
    "plt.xlabel(\"x\")\n",
    "plt.ylabel(\"sin(x)\")\n",
    "plt.legend()\n",
    "plt.show()"
   ]
  },
  {
   "cell_type": "markdown",
   "id": "505d8f23",
   "metadata": {},
   "source": [
    "\n",
    "## Conclusion\n",
    "\n",
    "- Jupyter lets us mix **code** and **text**.\n",
    "- Great for **teaching, research, and documentation**.\n",
    "- Supports **plots**, **equations**, and interactive outputs.\n",
    "\n",
    "That’s it for our small demo notebook!\n"
   ]
  }
 ],
 "metadata": {},
 "nbformat": 4,
 "nbformat_minor": 5
}
